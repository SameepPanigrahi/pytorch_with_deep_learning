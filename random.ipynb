{
 "cells": [
  {
   "cell_type": "code",
   "execution_count": 1,
   "metadata": {},
   "outputs": [
    {
     "name": "stdout",
     "output_type": "stream",
     "text": [
      "         Size   Color    Shape  Size_encoded  Color_encoded  Shape_encoded\n",
      "0      Medium    Blue   Square             1              0              1\n",
      "1       Small     Red  Hexagon             2              2             -1\n",
      "2  ExtraLarge  Purple   Circle            -1             -1              0\n"
     ]
    }
   ],
   "source": [
    "from sklearn.preprocessing import OrdinalEncoder\n",
    "import pandas as pd\n",
    "import pickle\n",
    "import numpy as np\n",
    "\n",
    "# Sample Data\n",
    "data = {\n",
    "    'Size': ['Small', 'Medium', 'Large'],\n",
    "    'Color': ['Red', 'Blue', 'Green'],\n",
    "    'Shape': ['Circle', 'Square', 'Triangle']\n",
    "}\n",
    "\n",
    "df = pd.DataFrame(data)\n",
    "\n",
    "# Initialize OrdinalEncoder and fit it\n",
    "ordinal_encoder = OrdinalEncoder()\n",
    "ordinal_encoder.fit(df)\n",
    "\n",
    "# Create a mapping of each category to its encoded value, with -1 as a default for unknowns\n",
    "category_mapping = {\n",
    "    'Size': dict(zip(ordinal_encoder.categories_[0], range(len(ordinal_encoder.categories_[0])))),\n",
    "    'Color': dict(zip(ordinal_encoder.categories_[1], range(len(ordinal_encoder.categories_[1])))),\n",
    "    'Shape': dict(zip(ordinal_encoder.categories_[2], range(len(ordinal_encoder.categories_[2]))))\n",
    "}\n",
    "\n",
    "# Function to handle unknown categories\n",
    "def encode_with_unknown_handling(row, column, mapping):\n",
    "    return mapping.get(row[column], -1)  # Returns -1 if the category is unknown in training data\n",
    "\n",
    "# Transform new data, including handling unknown categories\n",
    "new_data = pd.DataFrame({\n",
    "    'Size': ['Medium', 'Small', 'ExtraLarge'],  # 'ExtraLarge' is unknown\n",
    "    'Color': ['Blue', 'Red', 'Purple'],        # 'Purple' is unknown\n",
    "    'Shape': ['Square', 'Hexagon', 'Circle']   # 'Hexagon' is unknown\n",
    "})\n",
    "\n",
    "for column in ['Size', 'Color', 'Shape']:\n",
    "    new_data[column + '_encoded'] = new_data.apply(encode_with_unknown_handling, axis=1, column=column, mapping=category_mapping[column])\n",
    "\n",
    "# Display the new transformed data\n",
    "print(new_data)"
   ]
  },
  {
   "cell_type": "code",
   "execution_count": 3,
   "metadata": {},
   "outputs": [
    {
     "data": {
      "text/plain": [
       "array(['Large', 'Medium', 'Small'], dtype=object)"
      ]
     },
     "execution_count": 3,
     "metadata": {},
     "output_type": "execute_result"
    }
   ],
   "source": [
    "ordinal_encoder.categories_[0]"
   ]
  },
  {
   "cell_type": "code",
   "execution_count": 4,
   "metadata": {},
   "outputs": [
    {
     "data": {
      "text/plain": [
       "range(0, 3)"
      ]
     },
     "execution_count": 4,
     "metadata": {},
     "output_type": "execute_result"
    }
   ],
   "source": [
    "range(len(ordinal_encoder.categories_[0]))"
   ]
  },
  {
   "cell_type": "code",
   "execution_count": 1,
   "metadata": {},
   "outputs": [
    {
     "name": "stdout",
     "output_type": "stream",
     "text": [
      "(array([0, 0, 1, 2, 3, 2]), array(['b', 'd', 'a', 'c'], dtype=object))\n"
     ]
    }
   ],
   "source": [
    "import pandas as pd\n",
    "values = ['b','b','d','a','c','a']\n",
    "val = pd.factorize(values)\n",
    "print(val)"
   ]
  },
  {
   "cell_type": "code",
   "execution_count": 2,
   "metadata": {},
   "outputs": [
    {
     "name": "stdout",
     "output_type": "stream",
     "text": [
      "(array([1, 1, 3, 0, 2, 0]), array(['a', 'b', 'c', 'd'], dtype=object))\n"
     ]
    }
   ],
   "source": [
    "val = pd.factorize(values, sort=True)\n",
    "print(val)"
   ]
  },
  {
   "cell_type": "code",
   "execution_count": null,
   "metadata": {},
   "outputs": [],
   "source": []
  }
 ],
 "metadata": {
  "kernelspec": {
   "display_name": "torchvenv",
   "language": "python",
   "name": "python3"
  },
  "language_info": {
   "codemirror_mode": {
    "name": "ipython",
    "version": 3
   },
   "file_extension": ".py",
   "mimetype": "text/x-python",
   "name": "python",
   "nbconvert_exporter": "python",
   "pygments_lexer": "ipython3",
   "version": "3.8.20"
  }
 },
 "nbformat": 4,
 "nbformat_minor": 2
}
