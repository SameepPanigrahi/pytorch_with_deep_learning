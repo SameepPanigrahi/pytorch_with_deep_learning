{
 "cells": [
  {
   "cell_type": "code",
   "execution_count": 14,
   "metadata": {},
   "outputs": [],
   "source": [
    "import torch\n",
    "import torch.nn as nn\n",
    "import torch.nn.functional as F\n",
    "from torch.utils.data import DataLoader\n",
    "from torchvision import datasets, transforms\n",
    "from torchvision.utils import make_grid\n",
    "\n",
    "import numpy as np\n",
    "import pandas as pd\n",
    "from sklearn.metrics import confusion_matrix\n",
    "import matplotlib.pyplot as plt\n",
    "%matplotlib inline"
   ]
  },
  {
   "cell_type": "code",
   "execution_count": 3,
   "metadata": {},
   "outputs": [],
   "source": [
    "transform = transforms.ToTensor()"
   ]
  },
  {
   "cell_type": "code",
   "execution_count": 4,
   "metadata": {},
   "outputs": [
    {
     "data": {
      "text/plain": [
       "Dataset MNIST\n",
       "    Number of datapoints: 60000\n",
       "    Root location: ../../Data/\n",
       "    Split: Train\n",
       "    StandardTransform\n",
       "Transform: ToTensor()"
      ]
     },
     "execution_count": 4,
     "metadata": {},
     "output_type": "execute_result"
    }
   ],
   "source": [
    "train_data = datasets.MNIST(root=\"../../Data/\", train=True, download=True, transform=transform)\n",
    "train_data"
   ]
  },
  {
   "cell_type": "code",
   "execution_count": 5,
   "metadata": {},
   "outputs": [
    {
     "data": {
      "text/plain": [
       "Dataset MNIST\n",
       "    Number of datapoints: 10000\n",
       "    Root location: ../../Data\n",
       "    Split: Test\n",
       "    StandardTransform\n",
       "Transform: ToTensor()"
      ]
     },
     "execution_count": 5,
     "metadata": {},
     "output_type": "execute_result"
    }
   ],
   "source": [
    "test_data = datasets.MNIST(root=\"../../Data\", train=False, download=True, transform=transform)\n",
    "test_data"
   ]
  },
  {
   "cell_type": "code",
   "execution_count": 27,
   "metadata": {},
   "outputs": [],
   "source": [
    "train_loader = DataLoader(train_data, batch_size=10, shuffle=True)\n",
    "test_loader = DataLoader(test_data, batch_size=10, shuffle=False)"
   ]
  },
  {
   "cell_type": "code",
   "execution_count": 8,
   "metadata": {},
   "outputs": [],
   "source": [
    "# Dealing with gray scale image so the in_channels =1 here which is the first parameter\n",
    "# 6 out_channels for the feature extraction these are known as feature map. So here there are 6 filters present\n",
    "# Each filter of size 3*3, the stride is the step size\n",
    "conv1 = nn.Conv2d(in_channels=1,out_channels=6,kernel_size=3,stride=1)\n",
    "# 6 input filters in the input and the 16 filters will be there in the conv2D\n",
    "conv2 = nn.Conv2d(6, 16, 3, 1)"
   ]
  },
  {
   "cell_type": "code",
   "execution_count": 10,
   "metadata": {},
   "outputs": [],
   "source": [
    "for i, (x_train, y_train) in enumerate(train_data):\n",
    "    break"
   ]
  },
  {
   "cell_type": "code",
   "execution_count": 11,
   "metadata": {},
   "outputs": [
    {
     "data": {
      "text/plain": [
       "torch.Size([1, 28, 28])"
      ]
     },
     "execution_count": 11,
     "metadata": {},
     "output_type": "execute_result"
    }
   ],
   "source": [
    "x_train.shape"
   ]
  },
  {
   "cell_type": "code",
   "execution_count": 13,
   "metadata": {},
   "outputs": [
    {
     "data": {
      "text/plain": [
       "torch.Size([1, 1, 28, 28])"
      ]
     },
     "execution_count": 13,
     "metadata": {},
     "output_type": "execute_result"
    }
   ],
   "source": [
    "x = x_train.view(1,1,28,28)#---- 4D batch (Batch of 1 image)\n",
    "x.shape"
   ]
  },
  {
   "cell_type": "code",
   "execution_count": 15,
   "metadata": {},
   "outputs": [
    {
     "data": {
      "text/plain": [
       "torch.Size([1, 6, 26, 26])"
      ]
     },
     "execution_count": 15,
     "metadata": {},
     "output_type": "execute_result"
    }
   ],
   "source": [
    "x = F.relu(conv1(x))\n",
    "x.shape"
   ]
  },
  {
   "cell_type": "code",
   "execution_count": 16,
   "metadata": {},
   "outputs": [
    {
     "data": {
      "text/plain": [
       "torch.Size([1, 6, 13, 13])"
      ]
     },
     "execution_count": 16,
     "metadata": {},
     "output_type": "execute_result"
    }
   ],
   "source": [
    "x = F.max_pool2d(x,2,2)\n",
    "x.shape"
   ]
  },
  {
   "cell_type": "code",
   "execution_count": 17,
   "metadata": {},
   "outputs": [
    {
     "data": {
      "text/plain": [
       "torch.Size([1, 16, 11, 11])"
      ]
     },
     "execution_count": 17,
     "metadata": {},
     "output_type": "execute_result"
    }
   ],
   "source": [
    "x = F.relu(conv2(x))\n",
    "x.shape"
   ]
  },
  {
   "cell_type": "code",
   "execution_count": 18,
   "metadata": {},
   "outputs": [
    {
     "data": {
      "text/plain": [
       "torch.Size([1, 16, 5, 5])"
      ]
     },
     "execution_count": 18,
     "metadata": {},
     "output_type": "execute_result"
    }
   ],
   "source": [
    "x = F.max_pool2d(x,2,2)\n",
    "x.shape"
   ]
  },
  {
   "cell_type": "code",
   "execution_count": 19,
   "metadata": {},
   "outputs": [
    {
     "data": {
      "text/plain": [
       "torch.Size([1, 400])"
      ]
     },
     "execution_count": 19,
     "metadata": {},
     "output_type": "execute_result"
    }
   ],
   "source": [
    "x.view(-1,16*5*5).shape"
   ]
  },
  {
   "cell_type": "code",
   "execution_count": 32,
   "metadata": {},
   "outputs": [],
   "source": [
    "class ConvolutionNetwork(nn.Module):\n",
    "    def __init__(self):\n",
    "        super().__init__()\n",
    "        self.conv1 = nn.Conv2d(1, 6, 3, 1)\n",
    "        self.conv2 = nn.Conv2d(6,16, 3,1)\n",
    "        self.fc1 = nn.Linear(5*5*16, 120)\n",
    "        self.fc2 = nn.Linear(120, 84)\n",
    "        self.fc3 = nn.Linear(84, 10)\n",
    "    \n",
    "    def forward(self, X):\n",
    "        X = F.relu(self.conv1(X))\n",
    "        X = F.max_pool2d(X, 2, 2)\n",
    "        X = F.relu(self.conv2(X))\n",
    "        X = F.max_pool2d(X, 2, 2)\n",
    "        X = X.view(-1, 16*5*5)\n",
    "        X = F.relu(self.fc1(X))\n",
    "        X = F.relu(self.fc2(X))\n",
    "        X = self.fc3(X)\n",
    "        return F.log_softmax(X, dim=1)"
   ]
  },
  {
   "cell_type": "code",
   "execution_count": 33,
   "metadata": {},
   "outputs": [
    {
     "data": {
      "text/plain": [
       "ConvolutionNetwork(\n",
       "  (conv1): Conv2d(1, 6, kernel_size=(3, 3), stride=(1, 1))\n",
       "  (conv2): Conv2d(6, 16, kernel_size=(3, 3), stride=(1, 1))\n",
       "  (fc1): Linear(in_features=400, out_features=120, bias=True)\n",
       "  (fc2): Linear(in_features=120, out_features=84, bias=True)\n",
       "  (fc3): Linear(in_features=84, out_features=10, bias=True)\n",
       ")"
      ]
     },
     "execution_count": 33,
     "metadata": {},
     "output_type": "execute_result"
    }
   ],
   "source": [
    "torch.manual_seed(42)\n",
    "model = ConvolutionNetwork()\n",
    "model"
   ]
  },
  {
   "cell_type": "code",
   "execution_count": 34,
   "metadata": {},
   "outputs": [
    {
     "name": "stdout",
     "output_type": "stream",
     "text": [
      "54\n",
      "6\n",
      "864\n",
      "16\n",
      "48000\n",
      "120\n",
      "10080\n",
      "84\n",
      "840\n",
      "10\n",
      "______\n",
      "Sum : 60074\n"
     ]
    }
   ],
   "source": [
    "def count_parameters(model):\n",
    "    params = [p.numel() for p in model.parameters() if p.requires_grad]\n",
    "    for item in params:\n",
    "        print(item)\n",
    "    print(f\"______\\nSum : {sum(params)}\")\n",
    "\n",
    "count_parameters(model)"
   ]
  },
  {
   "cell_type": "markdown",
   "metadata": {},
   "source": [
    "### Define loss and optimization"
   ]
  },
  {
   "cell_type": "code",
   "execution_count": 35,
   "metadata": {},
   "outputs": [],
   "source": [
    "criterion = nn.CrossEntropyLoss()\n",
    "optimizer = torch.optim.Adam(model.parameters(), lr=0.001)"
   ]
  },
  {
   "cell_type": "code",
   "execution_count": 36,
   "metadata": {},
   "outputs": [
    {
     "name": "stdout",
     "output_type": "stream",
     "text": [
      "epoch:  0  batch:  600 [  6000/60000]  loss: 0.04055638  accuracy:  78.417%\n",
      "epoch:  0  batch: 1200 [ 12000/60000]  loss: 0.08253469  accuracy:  85.800%\n",
      "epoch:  0  batch: 1800 [ 18000/60000]  loss: 0.36470169  accuracy:  88.689%\n",
      "epoch:  0  batch: 2400 [ 24000/60000]  loss: 0.01825046  accuracy:  90.525%\n",
      "epoch:  0  batch: 3000 [ 30000/60000]  loss: 0.00775025  accuracy:  91.660%\n",
      "epoch:  0  batch: 3600 [ 36000/60000]  loss: 0.00110104  accuracy:  92.503%\n",
      "epoch:  0  batch: 4200 [ 42000/60000]  loss: 0.53726619  accuracy:  93.136%\n",
      "epoch:  0  batch: 4800 [ 48000/60000]  loss: 0.04146168  accuracy:  93.596%\n",
      "epoch:  0  batch: 5400 [ 54000/60000]  loss: 0.01003017  accuracy:  94.009%\n",
      "epoch:  0  batch: 6000 [ 60000/60000]  loss: 0.03305835  accuracy:  94.312%\n",
      "epoch:  1  batch:  600 [  6000/60000]  loss: 0.02725066  accuracy:  97.800%\n",
      "epoch:  1  batch: 1200 [ 12000/60000]  loss: 0.04815326  accuracy:  97.833%\n",
      "epoch:  1  batch: 1800 [ 18000/60000]  loss: 0.00102998  accuracy:  97.883%\n",
      "epoch:  1  batch: 2400 [ 24000/60000]  loss: 0.02262938  accuracy:  97.842%\n",
      "epoch:  1  batch: 3000 [ 30000/60000]  loss: 0.29482776  accuracy:  97.840%\n",
      "epoch:  1  batch: 3600 [ 36000/60000]  loss: 0.00070166  accuracy:  97.883%\n",
      "epoch:  1  batch: 4200 [ 42000/60000]  loss: 0.00073368  accuracy:  97.964%\n",
      "epoch:  1  batch: 4800 [ 48000/60000]  loss: 0.00150143  accuracy:  97.990%\n",
      "epoch:  1  batch: 5400 [ 54000/60000]  loss: 0.00032298  accuracy:  98.011%\n",
      "epoch:  1  batch: 6000 [ 60000/60000]  loss: 0.03443487  accuracy:  98.017%\n",
      "epoch:  2  batch:  600 [  6000/60000]  loss: 0.00047763  accuracy:  98.667%\n",
      "epoch:  2  batch: 1200 [ 12000/60000]  loss: 0.00093746  accuracy:  98.625%\n",
      "epoch:  2  batch: 1800 [ 18000/60000]  loss: 0.00063143  accuracy:  98.528%\n",
      "epoch:  2  batch: 2400 [ 24000/60000]  loss: 0.00212893  accuracy:  98.567%\n",
      "epoch:  2  batch: 3000 [ 30000/60000]  loss: 0.28046313  accuracy:  98.510%\n",
      "epoch:  2  batch: 3600 [ 36000/60000]  loss: 0.05329528  accuracy:  98.542%\n",
      "epoch:  2  batch: 4200 [ 42000/60000]  loss: 0.06222228  accuracy:  98.538%\n",
      "epoch:  2  batch: 4800 [ 48000/60000]  loss: 0.00598741  accuracy:  98.533%\n",
      "epoch:  2  batch: 5400 [ 54000/60000]  loss: 0.00060494  accuracy:  98.530%\n",
      "epoch:  2  batch: 6000 [ 60000/60000]  loss: 0.00004837  accuracy:  98.513%\n",
      "epoch:  3  batch:  600 [  6000/60000]  loss: 0.00091353  accuracy:  98.850%\n",
      "epoch:  3  batch: 1200 [ 12000/60000]  loss: 0.00100878  accuracy:  98.925%\n",
      "epoch:  3  batch: 1800 [ 18000/60000]  loss: 0.00038977  accuracy:  98.961%\n",
      "epoch:  3  batch: 2400 [ 24000/60000]  loss: 0.00007928  accuracy:  98.933%\n",
      "epoch:  3  batch: 3000 [ 30000/60000]  loss: 0.00146388  accuracy:  98.953%\n",
      "epoch:  3  batch: 3600 [ 36000/60000]  loss: 0.00194253  accuracy:  98.933%\n",
      "epoch:  3  batch: 4200 [ 42000/60000]  loss: 0.00042864  accuracy:  98.943%\n",
      "epoch:  3  batch: 4800 [ 48000/60000]  loss: 0.02756809  accuracy:  98.917%\n",
      "epoch:  3  batch: 5400 [ 54000/60000]  loss: 0.00275000  accuracy:  98.900%\n",
      "epoch:  3  batch: 6000 [ 60000/60000]  loss: 0.00246800  accuracy:  98.897%\n",
      "epoch:  4  batch:  600 [  6000/60000]  loss: 0.00082838  accuracy:  99.000%\n",
      "epoch:  4  batch: 1200 [ 12000/60000]  loss: 0.23997554  accuracy:  99.033%\n",
      "epoch:  4  batch: 1800 [ 18000/60000]  loss: 0.00003833  accuracy:  99.067%\n",
      "epoch:  4  batch: 2400 [ 24000/60000]  loss: 0.00011203  accuracy:  99.033%\n",
      "epoch:  4  batch: 3000 [ 30000/60000]  loss: 0.00904851  accuracy:  99.030%\n",
      "epoch:  4  batch: 3600 [ 36000/60000]  loss: 0.00010905  accuracy:  99.039%\n",
      "epoch:  4  batch: 4200 [ 42000/60000]  loss: 0.00076157  accuracy:  99.036%\n",
      "epoch:  4  batch: 4800 [ 48000/60000]  loss: 0.00085576  accuracy:  99.019%\n",
      "epoch:  4  batch: 5400 [ 54000/60000]  loss: 0.00016388  accuracy:  99.015%\n",
      "epoch:  4  batch: 6000 [ 60000/60000]  loss: 0.00233311  accuracy:  99.017%\n",
      "\n",
      "Duration: 40 seconds\n"
     ]
    }
   ],
   "source": [
    "import time\n",
    "start_time = time.time()\n",
    "\n",
    "epochs = 5\n",
    "train_losses = []\n",
    "test_losses = []\n",
    "train_correct = []\n",
    "test_correct = []\n",
    "\n",
    "for i in range(epochs):\n",
    "    trn_corr = 0\n",
    "    tst_corr = 0\n",
    "\n",
    "    #Run the training batches\n",
    "    for b, (X_train, y_train) in enumerate(train_loader):\n",
    "        b += 1\n",
    "\n",
    "        #Apply the model\n",
    "        y_pred = model(X_train)\n",
    "        loss = criterion(y_pred, y_train)\n",
    "\n",
    "        #Tally the nmber of correct predictions\n",
    "        predicted = torch.max(y_pred.data, 1)[1]\n",
    "        batch_corr = (predicted == y_train).sum()\n",
    "        trn_corr += batch_corr\n",
    "\n",
    "        #Update the parameters\n",
    "        optimizer.zero_grad()\n",
    "        loss.backward()\n",
    "        optimizer.step()\n",
    "\n",
    "        # Print interim results\n",
    "        if b%600 == 0:\n",
    "            print(f'epoch: {i:2}  batch: {b:4} [{10*b:6}/60000]  loss: {loss.item():10.8f}  \\\n",
    "accuracy: {trn_corr.item()*100/(10*b):7.3f}%')\n",
    "    \n",
    "    train_losses.append(loss)\n",
    "    train_correct.append(trn_corr)\n",
    "\n",
    "    #Run the testing batches\n",
    "    with torch.no_grad():\n",
    "        for b, (X_test, y_test) in enumerate(test_loader):\n",
    "            y_pred = model(X_test)\n",
    "\n",
    "            #Tally the number of predictions\n",
    "            predicted = torch.max(y_pred.data, 1)[1]\n",
    "            tst_corr += (predicted == y_test).sum()\n",
    "\n",
    "    loss = criterion(y_pred, y_test)\n",
    "    test_losses.append(loss)\n",
    "    test_correct.append(tst_corr)\n",
    "\n",
    "print(f'\\nDuration: {time.time() - start_time:.0f} seconds') # print the time elapsed   "
   ]
  },
  {
   "cell_type": "markdown",
   "metadata": {},
   "source": [
    "#### Plot losses and accuracy comparision"
   ]
  },
  {
   "cell_type": "code",
   "execution_count": 39,
   "metadata": {},
   "outputs": [
    {
     "data": {
      "text/plain": [
       "<matplotlib.legend.Legend at 0x3490ef550>"
      ]
     },
     "execution_count": 39,
     "metadata": {},
     "output_type": "execute_result"
    },
    {
     "data": {
      "image/png": "[encoded data removed]",
      "text/plain": [
       "<Figure size 640x480 with 1 Axes>"
      ]
     },
     "metadata": {},
     "output_type": "display_data"
    }
   ],
   "source": [
    "train_numpy_losses = [loss.detach().numpy() for loss in train_losses]\n",
    "test_numpy_losses = [loss.detach().numpy() for loss in test_losses]\n",
    "plt.plot(train_numpy_losses, label=\"Train Losses\")\n",
    "plt.plot(test_numpy_losses, label=\"Test Losses\")\n",
    "plt.title('Loss at the end of each epoch')\n",
    "plt.legend()"
   ]
  },
  {
   "cell_type": "code",
   "execution_count": 38,
   "metadata": {},
   "outputs": [
    {
     "data": {
      "text/plain": [
       "[array(0.00156018, dtype=float32),\n",
       " array(0.00238768, dtype=float32),\n",
       " array(0.00061846, dtype=float32),\n",
       " array(0.00010834, dtype=float32),\n",
       " array(5.5424804e-05, dtype=float32)]"
      ]
     },
     "execution_count": 38,
     "metadata": {},
     "output_type": "execute_result"
    }
   ],
   "source": [
    "test_numpy_losses"
   ]
  },
  {
   "cell_type": "code",
   "execution_count": 40,
   "metadata": {},
   "outputs": [
    {
     "data": {
      "text/plain": [
       "[tensor(56587), tensor(58810), tensor(59108), tensor(59338), tensor(59410)]"
      ]
     },
     "execution_count": 40,
     "metadata": {},
     "output_type": "execute_result"
    }
   ],
   "source": [
    "train_correct"
   ]
  },
  {
   "cell_type": "code",
   "execution_count": 44,
   "metadata": {},
   "outputs": [
    {
     "data": {
      "text/plain": [
       "<matplotlib.legend.Legend at 0x1652aa8b0>"
      ]
     },
     "execution_count": 44,
     "metadata": {},
     "output_type": "execute_result"
    },
    {
     "data": {
      "image/png": "[encoded data removed]",
      "text/plain": [
       "<Figure size 640x480 with 1 Axes>"
      ]
     },
     "metadata": {},
     "output_type": "display_data"
    }
   ],
   "source": [
    "plt.plot([t/600 for t in train_correct], label=\"Training Accuracy\")\n",
    "plt.plot([t/100 for t in test_correct], label=\"Test Accuracy\")\n",
    "plt.title('Accuracy at the end of each epoch')\n",
    "plt.legend()"
   ]
  },
  {
   "cell_type": "code",
   "execution_count": 46,
   "metadata": {},
   "outputs": [
    {
     "name": "stdout",
     "output_type": "stream",
     "text": [
      "Test Accuracy: 9878/10000 =  98.780%\n"
     ]
    }
   ],
   "source": [
    "# Extract the data all at once, not in batches\n",
    "test_load_all = DataLoader(test_data, batch_size=1000, shuffle=True)\n",
    "with torch.no_grad():\n",
    "    correct = 0\n",
    "    for X_test, y_test in test_load_all:\n",
    "        y_val = model(X_test)\n",
    "        predicted = torch.max(y_val, 1)[1]\n",
    "        correct += (predicted == y_test).sum()\n",
    "print(f\"Test Accuracy: {correct.item()}/{len(test_data)} = {correct.item()*100/(len(test_data)):7.3f}%\")"
   ]
  },
  {
   "cell_type": "markdown",
   "metadata": {},
   "source": [
    "Recall that our [784,120,84,10] ANN returned an accuracy of 97.25% after 10 epochs. And it used 105,214 parameters to our current 60,074."
   ]
  },
  {
   "cell_type": "markdown",
   "metadata": {},
   "source": [
    "#### Display the confusion matrix"
   ]
  },
  {
   "cell_type": "code",
   "execution_count": 59,
   "metadata": {},
   "outputs": [
    {
     "name": "stdout",
     "output_type": "stream",
     "text": [
      "torch.Size([1000])\n",
      "torch.Size([1000])\n"
     ]
    }
   ],
   "source": [
    "print(predicted.shape)\n",
    "print(y_test.shape)"
   ]
  },
  {
   "cell_type": "code",
   "execution_count": 60,
   "metadata": {},
   "outputs": [
    {
     "name": "stdout",
     "output_type": "stream",
     "text": [
      "[[   0    1    2    3    4    5    6    7    8    9]]\n",
      "\n",
      "[[  88    0    0    0    0    0    0    1    0    0]\n",
      " [   0  119    0    0    0    0    0    0    0    0]\n",
      " [   0    0   98    1    0    0    0    0    0    0]\n",
      " [   0    0    0  105    0    5    0    0    0    0]\n",
      " [   0    0    0    0  100    0    0    0    0    0]\n",
      " [   0    0    0    0    0   82    0    0    0    0]\n",
      " [   0    0    0    0    0    1   85    0    0    0]\n",
      " [   0    0    0    0    0    0    0  108    0    0]\n",
      " [   0    0    0    0    0    0    1    1   94    1]\n",
      " [   0    0    0    0    0    0    0    1    0  109]]\n"
     ]
    }
   ],
   "source": [
    "# Print a row of values for reference\n",
    "np.set_printoptions(formatter=dict(int=lambda x: f'{x:4}'))\n",
    "print(np.arange(10).reshape(1,10))\n",
    "print()\n",
    "\n",
    "#Print the confusion matrix\n",
    "print(confusion_matrix(predicted, y_test))"
   ]
  },
  {
   "cell_type": "markdown",
   "metadata": {},
   "source": [
    "#### Examine the misses"
   ]
  },
  {
   "cell_type": "code",
   "execution_count": 62,
   "metadata": {},
   "outputs": [
    {
     "data": {
      "text/plain": [
       "torch.Size([1000])"
      ]
     },
     "execution_count": 62,
     "metadata": {},
     "output_type": "execute_result"
    }
   ],
   "source": [
    "predicted.shape"
   ]
  },
  {
   "cell_type": "code",
   "execution_count": 64,
   "metadata": {},
   "outputs": [
    {
     "data": {
      "text/plain": [
       "12"
      ]
     },
     "execution_count": 64,
     "metadata": {},
     "output_type": "execute_result"
    }
   ],
   "source": [
    "misses = np.array([])\n",
    "for i in range(len(predicted)):\n",
    "    if predicted[i] != y_test[i]:\n",
    "        misses = np.append(misses, i).astype('int64')\n",
    "    \n",
    "len(misses)"
   ]
  },
  {
   "cell_type": "code",
   "execution_count": 65,
   "metadata": {},
   "outputs": [
    {
     "data": {
      "text/plain": [
       "array([  62,  133,  139,  361,  553,  585,  640,  761,  853,  858])"
      ]
     },
     "execution_count": 65,
     "metadata": {},
     "output_type": "execute_result"
    }
   ],
   "source": [
    "misses[:10]"
   ]
  },
  {
   "cell_type": "code",
   "execution_count": 99,
   "metadata": {},
   "outputs": [],
   "source": [
    "# Set up an iterator to feed batched rows\n",
    "r = 12 #Row size\n",
    "row = iter(np.array_split(misses, len(misses)//r+1))"
   ]
  },
  {
   "cell_type": "code",
   "execution_count": 100,
   "metadata": {},
   "outputs": [
    {
     "name": "stdout",
     "output_type": "stream",
     "text": [
      "Index : [  62  133  139  361  553  585]\n",
      "Label : [   5    5    7    6    5    7]\n",
      "Guess : [   3    3    9    8    6    8]\n"
     ]
    },
    {
     "data": {
      "text/plain": [
       "<matplotlib.image.AxesImage at 0x165727b80>"
      ]
     },
     "execution_count": 100,
     "metadata": {},
     "output_type": "execute_result"
    },
    {
     "data": {
      "image/png": "[encoded data removed]",
      "text/plain": [
       "<Figure size 1000x500 with 1 Axes>"
      ]
     },
     "metadata": {},
     "output_type": "display_data"
    }
   ],
   "source": [
    "next_row = next(row)\n",
    "print(f\"Index : {next_row}\")\n",
    "print(f\"Label : {y_test.index_select(0, torch.tensor(next_row)).numpy()}\")\n",
    "print(f\"Guess : {predicted.index_select(0, torch.tensor(next_row)).numpy()}\")\n",
    "\n",
    "images = X_test.index_select(0, torch.tensor(next_row))\n",
    "im = make_grid(images, nrow=r)\n",
    "plt.figure(figsize=(10, 5))\n",
    "plt.imshow(np.transpose(im.numpy(), (1,2,0)))"
   ]
  },
  {
   "cell_type": "markdown",
   "metadata": {},
   "source": [
    "## Run a new image through the model\n",
    "We can also pass a single image through the model to obtain a prediction.\n",
    "Pick a number from 0 to 9999, assign it to \"x\", and we'll use that value to select a number from the MNIST test set."
   ]
  },
  {
   "cell_type": "code",
   "execution_count": 116,
   "metadata": {},
   "outputs": [
    {
     "data": {
      "text/plain": [
       "torch.Size([1, 28, 28])"
      ]
     },
     "execution_count": 116,
     "metadata": {},
     "output_type": "execute_result"
    }
   ],
   "source": [
    "test_data[2019][0].shape"
   ]
  },
  {
   "cell_type": "code",
   "execution_count": 118,
   "metadata": {},
   "outputs": [
    {
     "data": {
      "text/plain": [
       "<matplotlib.image.AxesImage at 0x165dbc3a0>"
      ]
     },
     "execution_count": 118,
     "metadata": {},
     "output_type": "execute_result"
    },
    {
     "data": {
      "image/png": "[encoded data removed]",
      "text/plain": [
       "<Figure size 100x100 with 1 Axes>"
      ]
     },
     "metadata": {},
     "output_type": "display_data"
    }
   ],
   "source": [
    "x = 2019\n",
    "plt.figure(figsize=(1,1))\n",
    "plt.imshow(test_data[x][0].reshape((28,28)), cmap=\"gist_yarg\")"
   ]
  },
  {
   "cell_type": "code",
   "execution_count": 123,
   "metadata": {},
   "outputs": [
    {
     "name": "stdout",
     "output_type": "stream",
     "text": [
      "Predicted value is this : 9\n"
     ]
    }
   ],
   "source": [
    "with torch.no_grad():\n",
    "    res = model(test_data[x][0].view(1,1,28,28)).argmax()\n",
    "print(f\"Predicted value is this : {res.item()}\")"
   ]
  },
  {
   "cell_type": "code",
   "execution_count": null,
   "metadata": {},
   "outputs": [],
   "source": []
  }
 ],
 "metadata": {
  "kernelspec": {
   "display_name": "torchvenv",
   "language": "python",
   "name": "python3"
  },
  "language_info": {
   "codemirror_mode": {
    "name": "ipython",
    "version": 3
   },
   "file_extension": ".py",
   "mimetype": "text/x-python",
   "name": "python",
   "nbconvert_exporter": "python",
   "pygments_lexer": "ipython3",
   "version": "3.8.20"
  }
 },
 "nbformat": 4,
 "nbformat_minor": 2
}
