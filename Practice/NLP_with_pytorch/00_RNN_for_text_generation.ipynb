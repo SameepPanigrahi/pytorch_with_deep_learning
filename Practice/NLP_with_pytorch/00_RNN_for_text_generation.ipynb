{
 "cells": [
  {
   "cell_type": "code",
   "execution_count": 3,
   "metadata": {},
   "outputs": [],
   "source": [
    "import torch\n",
    "from torch import nn\n",
    "import torch.nn.functional as F\n",
    "\n",
    "import numpy as np\n",
    "import matplotlib.pyplot as plt\n",
    "%matplotlib inline"
   ]
  },
  {
   "cell_type": "markdown",
   "metadata": {},
   "source": [
    "### Get the data"
   ]
  },
  {
   "cell_type": "code",
   "execution_count": 5,
   "metadata": {},
   "outputs": [
    {
     "data": {
      "text/plain": [
       "\"\\n                     1\\n  From fairest creatures we desire increase,\\n  That thereby beauty's rose mi\""
      ]
     },
     "execution_count": 5,
     "metadata": {},
     "output_type": "execute_result"
    }
   ],
   "source": [
    "with open('../../Data/shakespeare.txt','r',encoding='utf8') as f:\n",
    "    text = f.read()\n",
    "\n",
    "text[:100]"
   ]
  },
  {
   "cell_type": "code",
   "execution_count": 7,
   "metadata": {},
   "outputs": [
    {
     "name": "stdout",
     "output_type": "stream",
     "text": [
      "\n",
      "                     1\n",
      "  From fairest creatures we desire increase,\n",
      "  That thereby beauty's rose might never die,\n",
      "  But as the riper should by time decease,\n",
      "  His tender heir might bear his memory:\n",
      "  But thou contracted to thine own bright eyes,\n",
      "  Feed'st thy light's flame with self-substantial fuel,\n",
      "  Making a famine where abundance lies,\n",
      "  Thy self thy foe, to thy sweet self too cruel:\n",
      "  Thou that art now the world's fresh ornament,\n",
      "  And only herald to the gaudy spring,\n",
      "  Within thine own bud buriest thy content,\n",
      "  And tender churl mak'st waste in niggarding:\n",
      "    Pity the world, or else this glutton be,\n",
      "    To eat the world's due, by the grave and thee.\n",
      "\n",
      "\n",
      "                     2\n",
      "  When forty winters shall besiege thy brow,\n",
      "  And dig deep trenches in thy beauty's field,\n",
      "  Thy youth's proud livery so gazed on now,\n",
      "  Will be a tattered weed of small worth held:  \n",
      "  Then being asked, where all thy beauty lies,\n",
      "  Where all the treasure of thy lusty days;\n",
      "  To say within thine own deep su\n"
     ]
    }
   ],
   "source": [
    "print(text[:1000])"
   ]
  },
  {
   "cell_type": "code",
   "execution_count": 8,
   "metadata": {},
   "outputs": [
    {
     "data": {
      "text/plain": [
       "5445609"
      ]
     },
     "execution_count": 8,
     "metadata": {},
     "output_type": "execute_result"
    }
   ],
   "source": [
    "len(text)"
   ]
  },
  {
   "cell_type": "markdown",
   "metadata": {},
   "source": [
    "### Encode entire text"
   ]
  },
  {
   "cell_type": "code",
   "execution_count": 9,
   "metadata": {},
   "outputs": [
    {
     "data": {
      "text/plain": [
       "{'\\n',\n",
       " ' ',\n",
       " '!',\n",
       " '\"',\n",
       " '&',\n",
       " \"'\",\n",
       " '(',\n",
       " ')',\n",
       " ',',\n",
       " '-',\n",
       " '.',\n",
       " '0',\n",
       " '1',\n",
       " '2',\n",
       " '3',\n",
       " '4',\n",
       " '5',\n",
       " '6',\n",
       " '7',\n",
       " '8',\n",
       " '9',\n",
       " ':',\n",
       " ';',\n",
       " '<',\n",
       " '>',\n",
       " '?',\n",
       " 'A',\n",
       " 'B',\n",
       " 'C',\n",
       " 'D',\n",
       " 'E',\n",
       " 'F',\n",
       " 'G',\n",
       " 'H',\n",
       " 'I',\n",
       " 'J',\n",
       " 'K',\n",
       " 'L',\n",
       " 'M',\n",
       " 'N',\n",
       " 'O',\n",
       " 'P',\n",
       " 'Q',\n",
       " 'R',\n",
       " 'S',\n",
       " 'T',\n",
       " 'U',\n",
       " 'V',\n",
       " 'W',\n",
       " 'X',\n",
       " 'Y',\n",
       " 'Z',\n",
       " '[',\n",
       " ']',\n",
       " '_',\n",
       " '`',\n",
       " 'a',\n",
       " 'b',\n",
       " 'c',\n",
       " 'd',\n",
       " 'e',\n",
       " 'f',\n",
       " 'g',\n",
       " 'h',\n",
       " 'i',\n",
       " 'j',\n",
       " 'k',\n",
       " 'l',\n",
       " 'm',\n",
       " 'n',\n",
       " 'o',\n",
       " 'p',\n",
       " 'q',\n",
       " 'r',\n",
       " 's',\n",
       " 't',\n",
       " 'u',\n",
       " 'v',\n",
       " 'w',\n",
       " 'x',\n",
       " 'y',\n",
       " 'z',\n",
       " '|',\n",
       " '}'}"
      ]
     },
     "execution_count": 9,
     "metadata": {},
     "output_type": "execute_result"
    }
   ],
   "source": [
    "all_characters = set(text)\n",
    "all_characters"
   ]
  },
  {
   "cell_type": "code",
   "execution_count": 10,
   "metadata": {},
   "outputs": [
    {
     "data": {
      "text/plain": [
       "{0: ':',\n",
       " 1: 'm',\n",
       " 2: 'Y',\n",
       " 3: '\"',\n",
       " 4: '\\n',\n",
       " 5: 'k',\n",
       " 6: 'i',\n",
       " 7: '>',\n",
       " 8: '<',\n",
       " 9: ' ',\n",
       " 10: 'g',\n",
       " 11: '9',\n",
       " 12: '-',\n",
       " 13: '}',\n",
       " 14: 'C',\n",
       " 15: 'V',\n",
       " 16: 'P',\n",
       " 17: 'S',\n",
       " 18: ';',\n",
       " 19: 'D',\n",
       " 20: 'B',\n",
       " 21: 'z',\n",
       " 22: '8',\n",
       " 23: '?',\n",
       " 24: 'y',\n",
       " 25: 'l',\n",
       " 26: 'I',\n",
       " 27: 'F',\n",
       " 28: '7',\n",
       " 29: 'L',\n",
       " 30: 'n',\n",
       " 31: '5',\n",
       " 32: 'x',\n",
       " 33: 'e',\n",
       " 34: 'p',\n",
       " 35: 'X',\n",
       " 36: '0',\n",
       " 37: 'R',\n",
       " 38: 't',\n",
       " 39: 'E',\n",
       " 40: 'A',\n",
       " 41: 'T',\n",
       " 42: 'H',\n",
       " 43: ',',\n",
       " 44: ']',\n",
       " 45: 'W',\n",
       " 46: 'b',\n",
       " 47: '|',\n",
       " 48: 'a',\n",
       " 49: '(',\n",
       " 50: '_',\n",
       " 51: '3',\n",
       " 52: 'O',\n",
       " 53: 'U',\n",
       " 54: 'J',\n",
       " 55: 'q',\n",
       " 56: 'o',\n",
       " 57: 'Q',\n",
       " 58: 'j',\n",
       " 59: 'd',\n",
       " 60: 'N',\n",
       " 61: 'h',\n",
       " 62: 'G',\n",
       " 63: 'Z',\n",
       " 64: 'M',\n",
       " 65: \"'\",\n",
       " 66: 's',\n",
       " 67: 'f',\n",
       " 68: '2',\n",
       " 69: '&',\n",
       " 70: 'c',\n",
       " 71: ')',\n",
       " 72: '1',\n",
       " 73: 'K',\n",
       " 74: '`',\n",
       " 75: 'u',\n",
       " 76: '6',\n",
       " 77: 'w',\n",
       " 78: '.',\n",
       " 79: 'r',\n",
       " 80: '!',\n",
       " 81: '[',\n",
       " 82: 'v',\n",
       " 83: '4'}"
      ]
     },
     "execution_count": 10,
     "metadata": {},
     "output_type": "execute_result"
    }
   ],
   "source": [
    "# num ----> Letter\n",
    "decoder = dict(enumerate(all_characters))\n",
    "decoder"
   ]
  },
  {
   "cell_type": "code",
   "execution_count": 11,
   "metadata": {},
   "outputs": [
    {
     "data": {
      "text/plain": [
       "{':': 0,\n",
       " 'm': 1,\n",
       " 'Y': 2,\n",
       " '\"': 3,\n",
       " '\\n': 4,\n",
       " 'k': 5,\n",
       " 'i': 6,\n",
       " '>': 7,\n",
       " '<': 8,\n",
       " ' ': 9,\n",
       " 'g': 10,\n",
       " '9': 11,\n",
       " '-': 12,\n",
       " '}': 13,\n",
       " 'C': 14,\n",
       " 'V': 15,\n",
       " 'P': 16,\n",
       " 'S': 17,\n",
       " ';': 18,\n",
       " 'D': 19,\n",
       " 'B': 20,\n",
       " 'z': 21,\n",
       " '8': 22,\n",
       " '?': 23,\n",
       " 'y': 24,\n",
       " 'l': 25,\n",
       " 'I': 26,\n",
       " 'F': 27,\n",
       " '7': 28,\n",
       " 'L': 29,\n",
       " 'n': 30,\n",
       " '5': 31,\n",
       " 'x': 32,\n",
       " 'e': 33,\n",
       " 'p': 34,\n",
       " 'X': 35,\n",
       " '0': 36,\n",
       " 'R': 37,\n",
       " 't': 38,\n",
       " 'E': 39,\n",
       " 'A': 40,\n",
       " 'T': 41,\n",
       " 'H': 42,\n",
       " ',': 43,\n",
       " ']': 44,\n",
       " 'W': 45,\n",
       " 'b': 46,\n",
       " '|': 47,\n",
       " 'a': 48,\n",
       " '(': 49,\n",
       " '_': 50,\n",
       " '3': 51,\n",
       " 'O': 52,\n",
       " 'U': 53,\n",
       " 'J': 54,\n",
       " 'q': 55,\n",
       " 'o': 56,\n",
       " 'Q': 57,\n",
       " 'j': 58,\n",
       " 'd': 59,\n",
       " 'N': 60,\n",
       " 'h': 61,\n",
       " 'G': 62,\n",
       " 'Z': 63,\n",
       " 'M': 64,\n",
       " \"'\": 65,\n",
       " 's': 66,\n",
       " 'f': 67,\n",
       " '2': 68,\n",
       " '&': 69,\n",
       " 'c': 70,\n",
       " ')': 71,\n",
       " '1': 72,\n",
       " 'K': 73,\n",
       " '`': 74,\n",
       " 'u': 75,\n",
       " '6': 76,\n",
       " 'w': 77,\n",
       " '.': 78,\n",
       " 'r': 79,\n",
       " '!': 80,\n",
       " '[': 81,\n",
       " 'v': 82,\n",
       " '4': 83}"
      ]
     },
     "execution_count": 11,
     "metadata": {},
     "output_type": "execute_result"
    }
   ],
   "source": [
    "# Letter ----> num\n",
    "encoder = {char:ind for ind, char in decoder.items()}\n",
    "encoder"
   ]
  },
  {
   "cell_type": "code",
   "execution_count": 13,
   "metadata": {},
   "outputs": [
    {
     "data": {
      "text/plain": [
       "array([ 4,  9,  9,  9,  9,  9,  9,  9,  9,  9,  9,  9,  9,  9,  9,  9,  9,\n",
       "        9,  9,  9,  9,  9, 72,  4,  9,  9, 27, 79, 56,  1,  9, 67, 48,  6,\n",
       "       79, 33, 66, 38,  9, 70, 79, 33, 48, 38, 75, 79, 33, 66,  9, 77, 33,\n",
       "        9, 59, 33, 66,  6, 79, 33,  9,  6, 30, 70, 79, 33, 48, 66, 33, 43,\n",
       "        4,  9,  9, 41, 61, 48, 38,  9, 38, 61, 33, 79, 33, 46, 24,  9, 46,\n",
       "       33, 48, 75, 38, 24, 65, 66,  9, 79, 56, 66, 33,  9,  1,  6])"
      ]
     },
     "execution_count": 13,
     "metadata": {},
     "output_type": "execute_result"
    }
   ],
   "source": [
    "encoded_text = np.array([encoder[char] for char in text])\n",
    "encoded_text[:100]"
   ]
  },
  {
   "cell_type": "markdown",
   "metadata": {},
   "source": [
    "## One Hot Encoding\n",
    "\n",
    "As previously discussed, we need to one-hot encode our data inorder for it to work with the network structure. Make sure to review numpy if any of these operations confuse you!"
   ]
  },
  {
   "cell_type": "code",
   "execution_count": 25,
   "metadata": {},
   "outputs": [],
   "source": [
    "def one_hot_encoder(encoded_text, num_uni_chars):\n",
    "    '''\n",
    "    encoded_text : batch of encoded text\n",
    "    \n",
    "    num_uni_chars = number of unique characters (len(set(text)))\n",
    "    '''\n",
    "    #Create a placeholder for 0s\n",
    "    one_hot = np.zeros((encoded_text.size, num_uni_chars))\n",
    "    # print(f\"The size is {one_hot.shape} and the element is {one_hot}\")\n",
    "\n",
    "    #Convert data type for the later use with the pytorch\n",
    "    one_hot = one_hot.astype(np.float32)\n",
    "    # print(one_hot)\n",
    "\n",
    "    #Using fancy indexing fill in the 1s at the correct index location\n",
    "    one_hot[np.arange(one_hot.shape[0]), encoded_text.flatten()] = 1.0\n",
    "    # print(one_hot)\n",
    "\n",
    "    #Reshape it so it matches the batch shape\n",
    "    one_hot = one_hot.reshape((*encoded_text.shape, num_uni_chars))\n",
    "    # print(f\"The size is {one_hot.shape} and the element is {one_hot}\")\n",
    "    \n",
    "\n",
    "    return one_hot\n"
   ]
  },
  {
   "cell_type": "code",
   "execution_count": 24,
   "metadata": {},
   "outputs": [
    {
     "name": "stdout",
     "output_type": "stream",
     "text": [
      "The size is (3, 3) and the element is [[0. 0. 0.]\n",
      " [0. 0. 0.]\n",
      " [0. 0. 0.]]\n",
      "[[0. 0. 0.]\n",
      " [0. 0. 0.]\n",
      " [0. 0. 0.]]\n",
      "[[0. 1. 0.]\n",
      " [0. 0. 1.]\n",
      " [1. 0. 0.]]\n",
      "The size is (3, 3) and the element is [[0. 1. 0.]\n",
      " [0. 0. 1.]\n",
      " [1. 0. 0.]]\n"
     ]
    },
    {
     "data": {
      "text/plain": [
       "array([[0., 1., 0.],\n",
       "       [0., 0., 1.],\n",
       "       [1., 0., 0.]], dtype=float32)"
      ]
     },
     "execution_count": 24,
     "metadata": {},
     "output_type": "execute_result"
    }
   ],
   "source": [
    "one_hot_encoder(np.array([1,2,0]),3)"
   ]
  },
  {
   "cell_type": "markdown",
   "metadata": {},
   "source": [
    "--------------\n",
    "---------------\n",
    "# Creating Training Batches\n",
    "\n",
    "We need to create a function that will generate batches of characters along with the next character in the sequence as a label.\n",
    "\n",
    "-----------------\n",
    "------------"
   ]
  },
  {
   "cell_type": "code",
   "execution_count": 26,
   "metadata": {},
   "outputs": [
    {
     "data": {
      "text/plain": [
       "array([0, 1, 2, 3, 4, 5, 6, 7, 8, 9])"
      ]
     },
     "execution_count": 26,
     "metadata": {},
     "output_type": "execute_result"
    }
   ],
   "source": [
    "example_text = np.arange(10)\n",
    "example_text"
   ]
  },
  {
   "cell_type": "code",
   "execution_count": 27,
   "metadata": {},
   "outputs": [
    {
     "data": {
      "text/plain": [
       "array([[0, 1],\n",
       "       [2, 3],\n",
       "       [4, 5],\n",
       "       [6, 7],\n",
       "       [8, 9]])"
      ]
     },
     "execution_count": 27,
     "metadata": {},
     "output_type": "execute_result"
    }
   ],
   "source": [
    "example_text.reshape((5,-1))"
   ]
  },
  {
   "cell_type": "code",
   "execution_count": 38,
   "metadata": {},
   "outputs": [],
   "source": [
    "def generate_batches(encoded_text, samp_per_batch=10, seq_len=50):\n",
    "    '''\n",
    "    Generate (using yield) batches for training.\n",
    "    \n",
    "    X: Encoded Text of length seq_len\n",
    "    Y: Encoded Text shifted by one\n",
    "    \n",
    "    Example:\n",
    "    \n",
    "    X:\n",
    "    \n",
    "    [[1 2 3]]\n",
    "    \n",
    "    Y:\n",
    "    \n",
    "    [[ 2 3 4]]\n",
    "    \n",
    "    encoded_text : Complete Encoded Text to make batches from\n",
    "    batch_size : Number of samples per batch\n",
    "    seq_len : Length of character sequence\n",
    "    '''\n",
    "    # Total number of characters per batch\n",
    "    # Example : If sample_per_batch is 2 and seq_len is 50 then, then 100\n",
    "    # characters come out per batch\n",
    "    char_per_batch = samp_per_batch * seq_len\n",
    "\n",
    "    # Number of batches availabe to make\n",
    "    # Use int() to return nearest integer\n",
    "    num_batches_avail = int(len(encoded_text)/char_per_batch)\n",
    "\n",
    "    # Cut off end of encoded text that won't fit evenly into a batch\n",
    "    encoded_text = encoded_text[:num_batches_avail*char_per_batch]\n",
    "    # print(encoded_text.shape)\n",
    "\n",
    "    #Reshape text into rows the size of the batch\n",
    "    encoded_text = encoded_text.reshape((samp_per_batch, -1))\n",
    "    # print(encoded_text.shape)\n",
    "\n",
    "    # Go through each row in the array\n",
    "    for n in range(0, encoded_text.shape[1], seq_len):\n",
    "        # Grab the feature character\n",
    "        x = encoded_text[:, n:n+seq_len]\n",
    "\n",
    "        # y is the target shifted over by 1\n",
    "        y = np.zeros_like(x)\n",
    "\n",
    "        try:\n",
    "            y[:, :-1] = x[:, 1:]\n",
    "            y[:, -1] = encoded_text[:, n+seq_len]\n",
    "        # FOR POTENTIAL INDEXING ERROR AT THE END \n",
    "        except:\n",
    "            y[:, :-1] = x[:, 1:]\n",
    "            y[:, -1] = encoded_text[:, 0]\n",
    "        yield x,y"
   ]
  },
  {
   "cell_type": "markdown",
   "metadata": {},
   "source": [
    "### Example of generating a batch"
   ]
  },
  {
   "cell_type": "code",
   "execution_count": 36,
   "metadata": {},
   "outputs": [
    {
     "data": {
      "text/plain": [
       "array([4, 9, 9, 9, 9, 9, 9, 9, 9, 9, 9, 9, 9, 9, 9, 9, 9, 9, 9, 9])"
      ]
     },
     "execution_count": 36,
     "metadata": {},
     "output_type": "execute_result"
    }
   ],
   "source": [
    "sample_text = encoded_text[:20]\n",
    "sample_text"
   ]
  },
  {
   "cell_type": "code",
   "execution_count": 37,
   "metadata": {},
   "outputs": [
    {
     "name": "stdout",
     "output_type": "stream",
     "text": [
      "(20,)\n",
      "(2, 10)\n",
      "x : [[4 9 9 9 9]\n",
      " [9 9 9 9 9]] \n",
      " y : [[9 9 9 9 9]\n",
      " [9 9 9 9 9]]\n"
     ]
    }
   ],
   "source": [
    "batch_gernerator = generate_batches(sample_text, samp_per_batch=2, seq_len=5)\n",
    "#Grab the first batch\n",
    "x,y = next(batch_gernerator)\n",
    "print(f\"x : {x} \\n y : {y}\")"
   ]
  },
  {
   "cell_type": "code",
   "execution_count": 39,
   "metadata": {},
   "outputs": [
    {
     "data": {
      "text/plain": [
       "False"
      ]
     },
     "execution_count": 39,
     "metadata": {},
     "output_type": "execute_result"
    }
   ],
   "source": [
    "torch.cuda.is_available()"
   ]
  },
  {
   "cell_type": "markdown",
   "metadata": {},
   "source": [
    "# Creating the LSTM Model\n",
    "\n",
    "**Note! We will have options for GPU users and CPU users. CPU will take MUCH LONGER to train and you may encounter RAM issues depending on your hardware. If that is the case, consider using cloud services like AWS, GCP, or Azure. Note, these may cost you money to use!**"
   ]
  },
  {
   "cell_type": "code",
   "execution_count": 61,
   "metadata": {},
   "outputs": [],
   "source": [
    "class CharModel(nn.Module):\n",
    "    def __init__(self, all_chars, num_hidden=256, num_layers=4,drop_prob=0.5,use_gpu=False ):\n",
    "        super().__init__()\n",
    "        self.all_chars = all_chars\n",
    "        self.num_hiddn = num_hidden\n",
    "        self.num_layers = num_layers\n",
    "        self.drop_prob = drop_prob\n",
    "        self.use_gpu = use_gpu\n",
    "\n",
    "        self.decoder = dict(enumerate(all_chars))\n",
    "        self.encoder = {char:ind for ind,char in decoder.items()}\n",
    "\n",
    "        self.lstm = nn.LSTM(input_size=len(self.all_chars), hidden_size=num_hidden, num_layers=num_layers, dropout=drop_prob, batch_first=True)\n",
    "        self.dropout = nn.Dropout(drop_prob)\n",
    "        self.fc_linear = nn.Linear(num_hidden, len(self.all_chars))\n",
    "\n",
    "    def forward(self, x, hidden):\n",
    "        lstm_output, hidden = self.lstm(x, hidden)\n",
    "\n",
    "        drop_output = self.dropout(lstm_output)\n",
    "\n",
    "        drop_output = drop_output.contiguous().view(-1, self.num_hiddn)\n",
    "\n",
    "        final_out = self.fc_linear(drop_output)\n",
    "\n",
    "        return final_out, hidden\n",
    "    \n",
    "    def hidden_state(self, batch_size):\n",
    "        '''\n",
    "        Used as separate method to account for both GPU and CPU users.\n",
    "\n",
    "        '''\n",
    "        if self.use_gpu:\n",
    "            hidden = (torch.zeros(self.num_layers,batch_size,self.num_hidden).cuda(),\n",
    "                     torch.zeros(self.num_layers,batch_size,self.num_hidden).cuda())\n",
    "        else:\n",
    "            hidden = (torch.zeros(self.num_layers, batch_size, self.num_hiddn),\n",
    "                      torch.zeros(self.num_layers, batch_size, self.num_hiddn))\n",
    "        return hidden\n",
    "            "
   ]
  },
  {
   "cell_type": "markdown",
   "metadata": {},
   "source": [
    "## Instance of the Model"
   ]
  },
  {
   "cell_type": "code",
   "execution_count": 62,
   "metadata": {},
   "outputs": [
    {
     "data": {
      "text/plain": [
       "CharModel(\n",
       "  (lstm): LSTM(84, 512, num_layers=3, batch_first=True, dropout=0.5)\n",
       "  (dropout): Dropout(p=0.5, inplace=False)\n",
       "  (fc_linear): Linear(in_features=512, out_features=84, bias=True)\n",
       ")"
      ]
     },
     "execution_count": 62,
     "metadata": {},
     "output_type": "execute_result"
    }
   ],
   "source": [
    "model = CharModel(all_chars=all_characters,\n",
    "                  num_hidden=512, num_layers=3, drop_prob=0.5, use_gpu=False)\n",
    "model"
   ]
  },
  {
   "cell_type": "code",
   "execution_count": 63,
   "metadata": {},
   "outputs": [
    {
     "data": {
      "text/plain": [
       "5470292"
      ]
     },
     "execution_count": 63,
     "metadata": {},
     "output_type": "execute_result"
    }
   ],
   "source": [
    "total_param = []\n",
    "for p in model.parameters():\n",
    "    total_param.append(p.numel())\n",
    "sum(total_param)"
   ]
  },
  {
   "cell_type": "code",
   "execution_count": 64,
   "metadata": {},
   "outputs": [
    {
     "data": {
      "text/plain": [
       "5445609"
      ]
     },
     "execution_count": 64,
     "metadata": {},
     "output_type": "execute_result"
    }
   ],
   "source": [
    "len(encoded_text)"
   ]
  },
  {
   "cell_type": "markdown",
   "metadata": {},
   "source": [
    "### Optimizer and loss"
   ]
  },
  {
   "cell_type": "code",
   "execution_count": 65,
   "metadata": {},
   "outputs": [],
   "source": [
    "optimizer = torch.optim.Adam(model.parameters(), lr=0.001)\n",
    "criterion = nn.CrossEntropyLoss()"
   ]
  },
  {
   "cell_type": "markdown",
   "metadata": {},
   "source": [
    "### Training data and validation data"
   ]
  },
  {
   "cell_type": "code",
   "execution_count": 66,
   "metadata": {},
   "outputs": [
    {
     "name": "stdout",
     "output_type": "stream",
     "text": [
      "5445609\n"
     ]
    },
    {
     "data": {
      "text/plain": [
       "544560"
      ]
     },
     "execution_count": 66,
     "metadata": {},
     "output_type": "execute_result"
    }
   ],
   "source": [
    "# percentage of data to be used for training\n",
    "train_percent = 0.1\n",
    "print(len(encoded_text))\n",
    "int(len(encoded_text)*train_percent)"
   ]
  },
  {
   "cell_type": "code",
   "execution_count": 67,
   "metadata": {},
   "outputs": [],
   "source": [
    "train_ind = int(len(encoded_text)*train_percent)\n",
    "train_data = encoded_text[:train_ind]\n",
    "val_data = encoded_text[train_ind:]"
   ]
  },
  {
   "cell_type": "markdown",
   "metadata": {},
   "source": [
    "# Training the Network"
   ]
  },
  {
   "cell_type": "markdown",
   "metadata": {},
   "source": [
    "## Variables\n",
    "\n",
    "Feel free to play around with these values!"
   ]
  },
  {
   "cell_type": "code",
   "execution_count": 68,
   "metadata": {},
   "outputs": [],
   "source": [
    "## VARIABLES\n",
    "\n",
    "# Epochs to train for\n",
    "epochs = 50\n",
    "# Batch size\n",
    "batch_size = 128\n",
    "# Length of sequence\n",
    "seq_len = 100\n",
    "# For printing report purpose always start at 0\n",
    "tracker = 0\n",
    "#Number of character in text\n",
    "num_char = max(encoded_text)+1\n"
   ]
  },
  {
   "cell_type": "code",
   "execution_count": 69,
   "metadata": {},
   "outputs": [
    {
     "data": {
      "text/plain": [
       "(544560,)"
      ]
     },
     "execution_count": 69,
     "metadata": {},
     "output_type": "execute_result"
    }
   ],
   "source": [
    "train_data.shape"
   ]
  },
  {
   "cell_type": "code",
   "execution_count": 70,
   "metadata": {},
   "outputs": [
    {
     "data": {
      "text/plain": [
       "128"
      ]
     },
     "execution_count": 70,
     "metadata": {},
     "output_type": "execute_result"
    }
   ],
   "source": [
    "batch_size"
   ]
  },
  {
   "cell_type": "code",
   "execution_count": 71,
   "metadata": {},
   "outputs": [
    {
     "data": {
      "text/plain": [
       "100"
      ]
     },
     "execution_count": 71,
     "metadata": {},
     "output_type": "execute_result"
    }
   ],
   "source": [
    "seq_len"
   ]
  },
  {
   "cell_type": "code",
   "execution_count": 72,
   "metadata": {},
   "outputs": [
    {
     "data": {
      "text/plain": [
       "84"
      ]
     },
     "execution_count": 72,
     "metadata": {},
     "output_type": "execute_result"
    }
   ],
   "source": [
    "num_char"
   ]
  },
  {
   "cell_type": "code",
   "execution_count": 74,
   "metadata": {},
   "outputs": [
    {
     "name": "stderr",
     "output_type": "stream",
     "text": [
      "/var/folders/4s/hysfs9xj63g017jwkv_8y0lh0000gq/T/ipykernel_46957/1392122642.py:38: FutureWarning: `torch.nn.utils.clip_grad_norm` is now deprecated in favor of `torch.nn.utils.clip_grad_norm_`.\n",
      "  nn.utils.clip_grad_norm(model.parameters(), max_norm=5)\n"
     ]
    },
    {
     "name": "stdout",
     "output_type": "stream",
     "text": [
      "Epoch: 0 Step: 50 Val Loss: 3.234307289123535\n",
      "Epoch: 1 Step: 75 Val Loss: 3.2133591175079346\n",
      "Epoch: 1 Step: 100 Val Loss: 3.073793888092041\n",
      "Epoch: 2 Step: 125 Val Loss: 2.9772727489471436\n",
      "Epoch: 2 Step: 150 Val Loss: 2.835651159286499\n",
      "Epoch: 3 Step: 175 Val Loss: 2.7252821922302246\n",
      "Epoch: 4 Step: 200 Val Loss: 2.6104061603546143\n",
      "Epoch: 4 Step: 225 Val Loss: 2.469093084335327\n",
      "Epoch: 5 Step: 250 Val Loss: 2.3806159496307373\n",
      "Epoch: 5 Step: 275 Val Loss: 2.321687698364258\n",
      "Epoch: 6 Step: 300 Val Loss: 2.262159824371338\n",
      "Epoch: 7 Step: 325 Val Loss: 2.2238433361053467\n",
      "Epoch: 7 Step: 350 Val Loss: 2.1812431812286377\n",
      "Epoch: 8 Step: 375 Val Loss: 2.1454873085021973\n",
      "Epoch: 8 Step: 400 Val Loss: 2.116783857345581\n",
      "Epoch: 9 Step: 425 Val Loss: 2.0916123390197754\n",
      "Epoch: 10 Step: 450 Val Loss: 2.0678539276123047\n",
      "Epoch: 10 Step: 475 Val Loss: 2.037212610244751\n",
      "Epoch: 11 Step: 500 Val Loss: 2.0146727561950684\n",
      "Epoch: 11 Step: 525 Val Loss: 2.000882863998413\n",
      "Epoch: 12 Step: 550 Val Loss: 1.9826148748397827\n",
      "Epoch: 13 Step: 575 Val Loss: 1.969638466835022\n",
      "Epoch: 13 Step: 600 Val Loss: 1.9466254711151123\n",
      "Epoch: 14 Step: 625 Val Loss: 1.9303102493286133\n",
      "Epoch: 14 Step: 650 Val Loss: 1.9148122072219849\n",
      "Epoch: 15 Step: 675 Val Loss: 1.906314492225647\n",
      "Epoch: 16 Step: 700 Val Loss: 1.8933265209197998\n",
      "Epoch: 16 Step: 725 Val Loss: 1.8800415992736816\n",
      "Epoch: 17 Step: 750 Val Loss: 1.871850848197937\n",
      "Epoch: 17 Step: 775 Val Loss: 1.8604282140731812\n",
      "Epoch: 18 Step: 800 Val Loss: 1.8546099662780762\n",
      "Epoch: 19 Step: 825 Val Loss: 1.8398452997207642\n",
      "Epoch: 19 Step: 850 Val Loss: 1.8348166942596436\n",
      "Epoch: 20 Step: 875 Val Loss: 1.8258837461471558\n",
      "Epoch: 20 Step: 900 Val Loss: 1.8173458576202393\n",
      "Epoch: 21 Step: 925 Val Loss: 1.8095905780792236\n",
      "Epoch: 22 Step: 950 Val Loss: 1.808908224105835\n",
      "Epoch: 22 Step: 975 Val Loss: 1.803432822227478\n",
      "Epoch: 23 Step: 1000 Val Loss: 1.7897295951843262\n",
      "Epoch: 23 Step: 1025 Val Loss: 1.7877845764160156\n",
      "Epoch: 24 Step: 1050 Val Loss: 1.7813447713851929\n",
      "Epoch: 24 Step: 1075 Val Loss: 1.7744218111038208\n",
      "Epoch: 25 Step: 1100 Val Loss: 1.7786670923233032\n",
      "Epoch: 26 Step: 1125 Val Loss: 1.771150827407837\n",
      "Epoch: 26 Step: 1150 Val Loss: 1.7653597593307495\n",
      "Epoch: 27 Step: 1175 Val Loss: 1.7582998275756836\n",
      "Epoch: 27 Step: 1200 Val Loss: 1.764231562614441\n",
      "Epoch: 28 Step: 1225 Val Loss: 1.7530643939971924\n",
      "Epoch: 29 Step: 1250 Val Loss: 1.7525008916854858\n",
      "Epoch: 29 Step: 1275 Val Loss: 1.750474214553833\n",
      "Epoch: 30 Step: 1300 Val Loss: 1.7431026697158813\n",
      "Epoch: 30 Step: 1325 Val Loss: 1.7455413341522217\n",
      "Epoch: 31 Step: 1350 Val Loss: 1.7430119514465332\n",
      "Epoch: 32 Step: 1375 Val Loss: 1.7395656108856201\n",
      "Epoch: 32 Step: 1400 Val Loss: 1.7315443754196167\n",
      "Epoch: 33 Step: 1425 Val Loss: 1.7332425117492676\n",
      "Epoch: 33 Step: 1450 Val Loss: 1.7364498376846313\n",
      "Epoch: 34 Step: 1475 Val Loss: 1.7281138896942139\n",
      "Epoch: 35 Step: 1500 Val Loss: 1.7362350225448608\n",
      "Epoch: 35 Step: 1525 Val Loss: 1.7258305549621582\n",
      "Epoch: 36 Step: 1550 Val Loss: 1.7304500341415405\n",
      "Epoch: 36 Step: 1575 Val Loss: 1.7306647300720215\n",
      "Epoch: 37 Step: 1600 Val Loss: 1.7351127862930298\n",
      "Epoch: 38 Step: 1625 Val Loss: 1.7250351905822754\n",
      "Epoch: 38 Step: 1650 Val Loss: 1.7225903272628784\n",
      "Epoch: 39 Step: 1675 Val Loss: 1.7256579399108887\n",
      "Epoch: 39 Step: 1700 Val Loss: 1.7214152812957764\n",
      "Epoch: 40 Step: 1725 Val Loss: 1.7282863855361938\n",
      "Epoch: 41 Step: 1750 Val Loss: 1.7154542207717896\n",
      "Epoch: 41 Step: 1775 Val Loss: 1.7321773767471313\n",
      "Epoch: 42 Step: 1800 Val Loss: 1.712884783744812\n",
      "Epoch: 42 Step: 1825 Val Loss: 1.7223565578460693\n",
      "Epoch: 43 Step: 1850 Val Loss: 1.7193710803985596\n",
      "Epoch: 44 Step: 1875 Val Loss: 1.7197471857070923\n",
      "Epoch: 44 Step: 1900 Val Loss: 1.7277876138687134\n",
      "Epoch: 45 Step: 1925 Val Loss: 1.7142857313156128\n",
      "Epoch: 45 Step: 1950 Val Loss: 1.7188868522644043\n",
      "Epoch: 46 Step: 1975 Val Loss: 1.7243430614471436\n",
      "Epoch: 47 Step: 2000 Val Loss: 1.724918246269226\n",
      "Epoch: 47 Step: 2025 Val Loss: 1.7351356744766235\n",
      "Epoch: 48 Step: 2050 Val Loss: 1.7327603101730347\n",
      "Epoch: 48 Step: 2075 Val Loss: 1.7299212217330933\n",
      "Epoch: 49 Step: 2100 Val Loss: 1.7284455299377441\n",
      "Epoch: 49 Step: 2125 Val Loss: 1.7356047630310059\n"
     ]
    }
   ],
   "source": [
    "#Set model to train \n",
    "model.train()\n",
    "\n",
    "#Check to see if model is using GPU\n",
    "if model.use_gpu:\n",
    "    model.cuda()\n",
    "\n",
    "for i in range(epochs):\n",
    "    hidden = model.hidden_state(batch_size=batch_size)\n",
    "    \n",
    "    for x, y in generate_batches(train_data, batch_size, seq_len):\n",
    "        tracker += 1\n",
    "        # One hot encode incoming data\n",
    "        x = one_hot_encoder(x, num_char)\n",
    "\n",
    "        # Convert numy arrays to tensor\n",
    "        inputs = torch.from_numpy(x)\n",
    "        targets = torch.from_numpy(y)\n",
    "\n",
    "        # Adjust for GPU if necessary\n",
    "        if model.use_gpu:\n",
    "            inputs = inputs.cuda()\n",
    "            targets = targets.cuda()\n",
    "        \n",
    "        # Reset hidden state\n",
    "        # If we will not reset then we will backpropagate through all the training history\n",
    "        hidden = tuple([state.data for state in hidden])\n",
    "\n",
    "        model.zero_grad()\n",
    "\n",
    "        lstm_output, hidden = model.forward(inputs, hidden)\n",
    "        loss = criterion(lstm_output, targets.view(batch_size*seq_len).long())\n",
    "\n",
    "        loss.backward()\n",
    "\n",
    "        # Possibel exploding gradient problem\n",
    "        # Let's clip just in case\n",
    "        nn.utils.clip_grad_norm(model.parameters(), max_norm=5)\n",
    "        optimizer.step()\n",
    "\n",
    "        ###################################\n",
    "        ### CHECK ON VALIDATION SET ######\n",
    "        #################################\n",
    "\n",
    "        if tracker % 25 == 0:\n",
    "            val_hidden = model.hidden_state(batch_size)\n",
    "            val_losses = []\n",
    "            model.eval()\n",
    "\n",
    "            for x,y in generate_batches(val_data,batch_size,seq_len):\n",
    "                # One hot encode incoming data\n",
    "                x = one_hot_encoder(x,num_char)\n",
    "                # Convert numpy arrays to tensors\n",
    "                inputs = torch.from_numpy(x)\n",
    "                targets = torch.from_numpy(y)\n",
    "\n",
    "                # Adjust GPU if necessary\n",
    "                if model.use_gpu:\n",
    "                    inputs = inputs.cuda()\n",
    "                    targets = targets.cuda()\n",
    "\n",
    "                # Reset hidden state\n",
    "                # If we don't reset then we would backpropagate through all training history\n",
    "                val_hidden = tuple([state.data for state in val_hidden])\n",
    "\n",
    "                lstm_output, val_hidden = model.forward(inputs, val_hidden)\n",
    "                val_loss = criterion(lstm_output, targets.view(batch_size*seq_len).long())\n",
    "\n",
    "                val_losses.append(val_loss.item())\n",
    "            # Reset to training model after after val for loop\n",
    "            model.train()\n",
    "            \n",
    "            print(f\"Epoch: {i} Step: {tracker} Val Loss: {val_loss.item()}\")"
   ]
  },
  {
   "cell_type": "markdown",
   "metadata": {},
   "source": [
    "-------\n",
    "------\n",
    "\n",
    "## Saving the Model\n",
    "\n",
    "https://pytorch.org/tutorials/beginner/saving_loading_models.html"
   ]
  },
  {
   "cell_type": "code",
   "execution_count": 75,
   "metadata": {},
   "outputs": [],
   "source": [
    "# Be careful to overwrite our original name file!\n",
    "model_name = 'example.net'"
   ]
  },
  {
   "cell_type": "code",
   "execution_count": 76,
   "metadata": {},
   "outputs": [],
   "source": [
    "torch.save(model.state_dict(),model_name)"
   ]
  },
  {
   "cell_type": "markdown",
   "metadata": {},
   "source": [
    "### Load the model"
   ]
  },
  {
   "cell_type": "code",
   "execution_count": 77,
   "metadata": {},
   "outputs": [
    {
     "name": "stderr",
     "output_type": "stream",
     "text": [
      "/var/folders/4s/hysfs9xj63g017jwkv_8y0lh0000gq/T/ipykernel_46957/2964936778.py:9: FutureWarning: You are using `torch.load` with `weights_only=False` (the current default value), which uses the default pickle module implicitly. It is possible to construct malicious pickle data which will execute arbitrary code during unpickling (See https://github.com/pytorch/pytorch/blob/main/SECURITY.md#untrusted-models for more details). In a future release, the default value for `weights_only` will be flipped to `True`. This limits the functions that could be executed during unpickling. Arbitrary objects will no longer be allowed to be loaded via this mode unless they are explicitly allowlisted by the user via `torch.serialization.add_safe_globals`. We recommend you start setting `weights_only=True` for any use case where you don't have full control of the loaded file. Please open an issue on GitHub for any issues related to this experimental feature.\n",
      "  model.load_state_dict(torch.load(model_name))\n"
     ]
    },
    {
     "data": {
      "text/plain": [
       "CharModel(\n",
       "  (lstm): LSTM(84, 512, num_layers=3, batch_first=True, dropout=0.5)\n",
       "  (dropout): Dropout(p=0.5, inplace=False)\n",
       "  (fc_linear): Linear(in_features=512, out_features=84, bias=True)\n",
       ")"
      ]
     },
     "execution_count": 77,
     "metadata": {},
     "output_type": "execute_result"
    }
   ],
   "source": [
    "# MUST MATCH THE EXACT SAME SETTINGS AS MODEL USED DURING TRAINING!\n",
    "model = CharModel(\n",
    "    all_chars=all_characters,\n",
    "    num_hidden=512,\n",
    "    num_layers=3,\n",
    "    drop_prob=0.5,\n",
    "    use_gpu=False\n",
    ")\n",
    "model.load_state_dict(torch.load(model_name))\n",
    "model.eval()"
   ]
  },
  {
   "cell_type": "markdown",
   "metadata": {},
   "source": [
    "# Generating Predictions\n",
    "\n",
    "-----------------------------"
   ]
  },
  {
   "cell_type": "code",
   "execution_count": 81,
   "metadata": {},
   "outputs": [],
   "source": [
    "# model.encoder\n",
    "# len(model.all_chars)"
   ]
  },
  {
   "cell_type": "code",
   "execution_count": 91,
   "metadata": {},
   "outputs": [],
   "source": [
    "def predict_next_char(model, char, hidden=None, k=1):\n",
    "    # Encode raw letters with model\n",
    "    encoded_text = model.encoder[char]\n",
    "    # set as numpy array for one hot encoding\n",
    "    # NOTE THE [[ ]] dimensions!!\n",
    "    encoded_text = np.array([[encoded_text]])\n",
    "    # One hot encoding\n",
    "    encoded_text = one_hot_encoder(encoded_text=encoded_text,num_uni_chars=len(model.all_chars))\n",
    "    # Convert to tensors\n",
    "    inputs = torch.from_numpy(encoded_text)\n",
    "    # Check for the CPU\n",
    "    if(model.use_gpu):\n",
    "        inputs = inputs.cuda()\n",
    "    # Grab the hidden states\n",
    "    hidden = tuple([state.data for state in hidden])\n",
    "    # Run model \n",
    "    lstm_out, hidden = model(inputs, hidden)\n",
    "    # Convert lstm output to probabilities\n",
    "    probs = F.softmax(lstm_out, dim=1).data\n",
    "\n",
    "    if(model.use_gpu):\n",
    "        # move back to cpu to use with numpy\n",
    "        probs = probs.cpu()\n",
    "\n",
    "    # k determines how many characters to consider\n",
    "    # for our probability choice.\n",
    "    # https://pytorch.org/docs/stable/torch.html#torch.topk\n",
    "    \n",
    "    # Return k largest probabilities in tensor\n",
    "    probs, index_positions = probs.topk(k)\n",
    "    index_positions = index_positions.numpy().squeeze()\n",
    "\n",
    "    # Create an arrays of probabilities\n",
    "    probs = probs.detach().numpy().flatten()\n",
    "    # Convert to probabilites per index\n",
    "    probs = probs/probs.sum()\n",
    "    # Randomly choose a character based on probabilities\n",
    "    char = np.random.choice(index_positions, p=probs)\n",
    "    # Return the encoded value of the predicted char and hidden state\n",
    "    return model.decoder[char], hidden"
   ]
  },
  {
   "cell_type": "code",
   "execution_count": 94,
   "metadata": {},
   "outputs": [],
   "source": [
    "def generate_text(model, size, seed='The', k=1):\n",
    "    # Check for GPU\n",
    "    if(model.use_gpu):\n",
    "        model.cuda()\n",
    "    else:\n",
    "        model.cpu()\n",
    "    # Evaluation mode\n",
    "    model.eval()\n",
    "    # Begin output from initial seed\n",
    "    output_char = [c for c in seed]\n",
    "    # Initiate hiddne state\n",
    "    hidden = model.hidden_state(1)\n",
    "    # Predict the next character for every character in the seed\n",
    "    for char in seed:\n",
    "        char, hidden = predict_next_char(model, char, hidden, k=k)\n",
    "\n",
    "    # Add initial character to output\n",
    "    output_char.append(char)\n",
    "    # Now generate for size requested\n",
    "    for i in range(size):\n",
    "        # Predict based off very last letter in output_chars\n",
    "        char, hidden = predict_next_char(model, output_char[-1], hidden, k=k)\n",
    "        # Add predicted character\n",
    "        output_char.append(char)\n",
    "    # Return string of predicted text\n",
    "    return ''.join(output_char)"
   ]
  },
  {
   "cell_type": "code",
   "execution_count": 97,
   "metadata": {},
   "outputs": [
    {
     "name": "stdout",
     "output_type": "stream",
     "text": [
      "The counter on the son.\n",
      "    The soldier this the servicious of her swow.\n",
      "    Where is not to the serving to my side,\n",
      "    And what is some to thee we should have stand\n",
      "    Than she in that the world of that I would be son\n",
      "    To be to speak and song a senting show.\n",
      "    I was not the word of the story with man\n",
      "    Thou art a strange offer. That the charge\n",
      "    That she shall see him that I will see thee\n",
      "    A strength of the formen senst a cansee forgute,\n",
      "    As the break of a poor for the with this shake\n",
      "    And present my straight this were brother and him.\n",
      "    We we consent me we see that to show them strong\n",
      "    As to the strong as this were sone as so this\n",
      "    The suble service of my fair foot this in mind\n",
      "    And be the with the with.\n",
      "  MENAS. Well, to-morrow, there.\n",
      "    The grace is not my soldier, and we see\n",
      "    That were a past of than and trith the come\n",
      "    The way of soldier well. The gentle spirit\n",
      "    As this in mark and see the common will,\n",
      "    And to be brother, that will brie me \n"
     ]
    }
   ],
   "source": [
    "print(generate_text(model, 1000, seed='The ', k=3))"
   ]
  },
  {
   "cell_type": "code",
   "execution_count": null,
   "metadata": {},
   "outputs": [],
   "source": []
  }
 ],
 "metadata": {
  "kernelspec": {
   "display_name": "torchvenv",
   "language": "python",
   "name": "python3"
  },
  "language_info": {
   "codemirror_mode": {
    "name": "ipython",
    "version": 3
   },
   "file_extension": ".py",
   "mimetype": "text/x-python",
   "name": "python",
   "nbconvert_exporter": "python",
   "pygments_lexer": "ipython3",
   "version": "3.8.20"
  }
 },
 "nbformat": 4,
 "nbformat_minor": 2
}
